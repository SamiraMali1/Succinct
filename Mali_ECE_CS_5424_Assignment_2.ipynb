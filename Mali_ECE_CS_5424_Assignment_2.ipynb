{
  "nbformat": 4,
  "nbformat_minor": 0,
  "metadata": {
    "colab": {
      "name": "Mali_ECE_CS_5424_Assignment_2.ipynb",
      "provenance": [],
      "collapsed_sections": [],
      "include_colab_link": true
    },
    "kernelspec": {
      "display_name": "Python 3",
      "language": "python",
      "name": "python3"
    },
    "language_info": {
      "codemirror_mode": {
        "name": "ipython",
        "version": 3
      },
      "file_extension": ".py",
      "mimetype": "text/x-python",
      "name": "python",
      "nbconvert_exporter": "python",
      "pygments_lexer": "ipython3",
      "version": "3.7.4"
    }
  },
  "cells": [
    {
      "cell_type": "markdown",
      "metadata": {
        "id": "view-in-github",
        "colab_type": "text"
      },
      "source": [
        "<a href=\"https://colab.research.google.com/github/SamiraMali1/Succinct/blob/master/Mali_ECE_CS_5424_Assignment_2.ipynb\" target=\"_parent\"><img src=\"https://colab.research.google.com/assets/colab-badge.svg\" alt=\"Open In Colab\"/></a>"
      ]
    },
    {
      "cell_type": "markdown",
      "metadata": {
        "id": "Mh6N3SPWUSMB"
      },
      "source": [
        "# ECE-5424 / CS-5824 Advanced Machine Learning\n",
        "# Assignment 2: Coding [60 pts]"
      ]
    },
    {
      "cell_type": "markdown",
      "metadata": {
        "id": "MIA3Hv8kUSMZ"
      },
      "source": [
        "In this assignment, you need to complete the following two sections:\n",
        "1. Logistic regression\n",
        "2. Regularization"
      ]
    },
    {
      "cell_type": "markdown",
      "metadata": {
        "id": "Yxhzck1aWX7q"
      },
      "source": [
        "## Submission guideline\n",
        "\n",
        "1. Click the Save button at the top of the Jupyter Notebook.\n",
        "2. Please make sure to have entered your Virginia Tech PID below.\n",
        "3. Select Edit -> Clear All Output. This will clear all the outputs from all cells (but will keep the content of the cells).\n",
        "4. Select Runtime -> Restart and Run All. This will run all the cells in order.\n",
        "5. Once you've rerun everything, select File -> Print -> Save as PDF, or you can use the provided code at the end of this notebook.\n",
        "6. Look at the PDF file and make sure all your solutions are there, displayed correctly. \n",
        "7. Upload the PDF file and this notebook **INDEPENDENTLY**.\n",
        "8. Please **DO NOT** upload any data."
      ]
    },
    {
      "cell_type": "markdown",
      "metadata": {
        "id": "d4K3x2x_USMd"
      },
      "source": [
        "### Please Write Your VT PID Here: \r\n",
        "\r\n",
        "smali\r\n",
        "\r\n"
      ]
    },
    {
      "cell_type": "markdown",
      "metadata": {
        "id": "G7vN9PE-ZFvg"
      },
      "source": [
        "# Section 0. Environment Set Up"
      ]
    },
    {
      "cell_type": "markdown",
      "metadata": {
        "id": "_Pja5zjFXwTp"
      },
      "source": [
        "Mount your google drive in google colab"
      ]
    },
    {
      "cell_type": "code",
      "metadata": {
        "id": "mdVPU9EUXvij",
        "colab": {
          "base_uri": "https://localhost:8080/"
        },
        "outputId": "bcc60c93-572f-4f39-ae68-a24d352500f5"
      },
      "source": [
        "from google.colab import drive\n",
        "drive.mount('/content/gdrive/')"
      ],
      "execution_count": null,
      "outputs": [
        {
          "output_type": "stream",
          "text": [
            "Drive already mounted at /content/gdrive/; to attempt to forcibly remount, call drive.mount(\"/content/gdrive/\", force_remount=True).\n"
          ],
          "name": "stdout"
        }
      ]
    },
    {
      "cell_type": "markdown",
      "metadata": {
        "id": "vg6RLG8AX73v"
      },
      "source": [
        "Append the directory to your python path using sys.\n",
        "\n",
        "**Please do modify the `customized_path_to_your_homework` to where you uploaded your homework in the Google Drive**."
      ]
    },
    {
      "cell_type": "code",
      "metadata": {
        "id": "HwSblWSIX-qM"
      },
      "source": [
        "import sys\n",
        "import os\n",
        "import math\n",
        "\n",
        "# modify \"customized_path_to_your_homework\" here to where you uploaded your homework\n",
        "customized_path_to_your_homework = '/content/gdrive/MyDrive/Colab Notebooks/HW2'\n",
        "sys.path.append(customized_path_to_your_homework)"
      ],
      "execution_count": null,
      "outputs": []
    },
    {
      "cell_type": "markdown",
      "metadata": {
        "id": "dXkxh1F0USP7"
      },
      "source": [
        "# Section 1. Logistic Regression [30 pts]:"
      ]
    },
    {
      "cell_type": "markdown",
      "metadata": {
        "id": "nchNW0zXUSP7"
      },
      "source": [
        "The following logistic regression assignment is modified from [Stanford CS229](http://cs229.stanford.edu//). Please complete and hand in this completed worksheet."
      ]
    },
    {
      "cell_type": "markdown",
      "metadata": {
        "id": "OYOvYZ_4USP8"
      },
      "source": [
        "## Logistic Regression\n",
        "In this section, you need to implement logsitic regression to solve a binary classification problem. Let's first get our data ready:"
      ]
    },
    {
      "cell_type": "code",
      "metadata": {
        "id": "l3m-u3V1Xi6t"
      },
      "source": [
        "import os\n",
        "logistic_x_data_path = os.path.join(customized_path_to_your_homework, 'data/logistic_x_.txt')\n",
        "logistic_y_data_path = os.path.join(customized_path_to_your_homework, 'data/logistic_y_.txt')"
      ],
      "execution_count": null,
      "outputs": []
    },
    {
      "cell_type": "code",
      "metadata": {
        "id": "Op9aacdfWjBH"
      },
      "source": [
        "def feature_normalize(X):\n",
        "    \n",
        "    # feature_normalize: Normalizes the features in X \n",
        "    # feature_normalize(X): returns a normalized version of X where the mean value of each feature is 0 and the standard deviation is 1. \n",
        "    # This is often a good preprocessing step to do when working with learning algorithms.\n",
        "    \n",
        "    mu     = 0\n",
        "    sigma  = 0\n",
        "    mu     = np.mean(X, 0)\n",
        "    sigma  = np.std(X, 0)\n",
        "    X      = (X - mu) / sigma\n",
        "    X_norm = X\n",
        "  \n",
        "    return X_norm, mu, sigma"
      ],
      "execution_count": null,
      "outputs": []
    },
    {
      "cell_type": "code",
      "metadata": {
        "id": "SJJmpMWsUSP9"
      },
      "source": [
        "import numpy as np\n",
        "# Only use the first 70 samples for training (and validation),\n",
        "# and treat the rest of them as hold-out testing set.\n",
        "X = np.loadtxt(logistic_x_data_path) \n",
        "y = np.loadtxt(logistic_y_data_path).reshape(-1, 1) \n",
        "\n",
        "X, mu, std = feature_normalize(X)\n",
        "\n",
        "# Add a column of ones to X for the bias weight.\n",
        "m = len(X)\n",
        "X = np.concatenate((np.ones((m, 1)), X), axis=1)"
      ],
      "execution_count": null,
      "outputs": []
    },
    {
      "cell_type": "markdown",
      "metadata": {
        "id": "AcrnuQikUSQE"
      },
      "source": [
        "Here, the input $x^{(i)}\\in\\mathbb{R^2}$ and $y^{(i)}\\in\\{-1, 1\\}$. Like we have mentioned, it is better to visualize the data first before you start working on it."
      ]
    },
    {
      "cell_type": "code",
      "metadata": {
        "id": "EWu_JnqjUSQF",
        "colab": {
          "base_uri": "https://localhost:8080/",
          "height": 279
        },
        "outputId": "761afa34-ca66-4c72-ef05-154c148d25c5"
      },
      "source": [
        "# Plot the feature according to their class label.\n",
        "# Note that we exclude column 0, which is the colunm we padded with one in the previous block.\n",
        "import matplotlib.pyplot as plt\n",
        "plt.plot(X[np.where(y==1), 1], X[np.where(y==1), 2], 'rx')\n",
        "plt.plot(X[np.where(y==-1), 1], X[np.where(y==-1), 2], 'bo')  \n",
        "plt.xlabel('x2')\n",
        "plt.ylabel('x1')\n",
        "plt.show()"
      ],
      "execution_count": null,
      "outputs": [
        {
          "output_type": "display_data",
          "data": {
            "image/png": "[encoded data removed]",
            "text/plain": [
              "<Figure size 432x288 with 1 Axes>"
            ]
          },
          "metadata": {
            "tags": [],
            "needs_background": "light"
          }
        }
      ]
    },
    {
      "cell_type": "markdown",
      "metadata": {
        "id": "ubw2Ad2MUSQM"
      },
      "source": [
        "In the following, you need to implement logistic regression. Recall that when $y^{(i)}\\in{-1,1}$, the objective function for binary logistic regression can be expressed as:\n",
        "\\begin{equation*}\n",
        "J(\\theta) = \\frac{1}{m}\\sum_{i=1}^{m}\\log{\\left(1+e^{-y^{(i)}\\theta^Tx^{(i)}}\\right)}=-\\frac{1}{m}\\sum_{i=1}^m\\log{\\left(h_{\\theta}(y^{(i)}x^{(i)})\\right)}\n",
        "\\end{equation*}\n",
        "where the hypothesis is the **sigmoid function**: \n",
        "\\begin{equation*}\n",
        "h_\\theta(y^{(i)}x^{(i)})=\\frac{1}{1+e^{-y^{(i)}\\theta^{T}x^{(i)}}}\n",
        "\\end{equation*}\n",
        "which we have seen in class (and assignment 0). Similar to the previous section, we can minimize the objective function $J(\\theta)$ using  batch gradient descent:\n",
        "\\begin{equation*}\n",
        "\\theta_j := \\theta_j - \\alpha \\frac{1}{m}\\sum_{i=1}^{m}h_\\theta(-y^{(i)}x^{(i)})(-y^{(i)}x_j^{(i)})\n",
        "\\end{equation*}\n",
        "\n",
        "Now, your task is to complete the function `sigmoid`, `compute_cost`, `compute_gradient`, and `gradient_descent__logistic` for logistic regression."
      ]
    },
    {
      "cell_type": "code",
      "metadata": {
        "id": "Xqd3w1jYUSQO"
      },
      "source": [
        "def sigmoid(z):\n",
        "    #####################################################################\n",
        "    # Instructions: Implement sigmoid function g                        #\n",
        "    #####################################################################\n",
        "    #z=np.dot(y,theta.T,X)\n",
        "    g = 1 / (1 + np.exp(-z))\n",
        "    pass\n",
        "    #####################################################################\n",
        "    #                       END OF YOUR CODE                            #\n",
        "    #####################################################################\n",
        "    return g\n",
        "\n",
        "def compute_cost(X, y, theta):\n",
        "    \n",
        "    # You need to return the following variables correctly \n",
        "    J = 0;\n",
        "    #####################################################################\n",
        "    # Instructions: Implement the objective function J(theta)           #\n",
        "    #####################################################################\n",
        "    pass\n",
        "    h = sigmoid(np.dot(X,theta))\n",
        "    cost = (-y * np.log(h)) - ((1-y)*np.log(1-h))\n",
        "    J = 1/m * sum(cost)  \n",
        "    #####################################################################\n",
        "    #                       END OF YOUR CODE                            #\n",
        "    #####################################################################\n",
        "    return J\n",
        "\n",
        "def compute_gradient(X, y, theta):\n",
        "    #####################################################################\n",
        "    # Instructions: Implement gradient function gradient_               #\n",
        "    #####################################################################\n",
        "    pass\n",
        "    h2 = sigmoid(np.dot(X,theta))\n",
        "    gradient_ = 1/m * (np.dot(X.transpose(), (h2-y)))\n",
        "    #####################################################################\n",
        "    #                       END OF YOUR CODE                            #\n",
        "    #####################################################################\n",
        "    #print (gradient_)\n",
        "    return gradient_\n",
        "\n",
        "\n",
        "def gradient_descent_logistic(X, y, theta, alpha, num_iters):\n",
        "    m = len(y)\n",
        "    J_history = []\n",
        "    for iter in range(num_iters):\n",
        "\n",
        "        #####################################################################\n",
        "        # Instructions: Perform a single gradient step on the parameter     #\n",
        "        #               vector theta using the implemented compute_gradient #\n",
        "        #                                                                   #      \n",
        "        # Hint: While debugging, it can be useful to print out the values   #\n",
        "        #       of the cost function (compute_cost) and gradient here.      # \n",
        "        #####################################################################\n",
        "        grad=compute_gradient(X, y, theta)\n",
        "        theta = theta - alpha* grad\n",
        "        pass\n",
        "        #####################################################################\n",
        "        #                       END OF YOUR CODE                            #\n",
        "        #####################################################################\n",
        "    \n",
        "\n",
        "        # Save the cost J in every iteration \n",
        "        J = compute_cost(X, y, theta)\n",
        "        print(J)\n",
        "        J_history.append(J)\n",
        "    \n",
        "    return theta, J_history"
      ],
      "execution_count": null,
      "outputs": []
    },
    {
      "cell_type": "markdown",
      "metadata": {
        "id": "JbqxwYXNUSQR"
      },
      "source": [
        "Now, fit your model, and see if it is learning."
      ]
    },
    {
      "cell_type": "code",
      "metadata": {
        "id": "8lZwfDtsUSQT",
        "colab": {
          "base_uri": "https://localhost:8080/"
        },
        "outputId": "1b63d633-6363-4b76-e850-0ef289eeb01f"
      },
      "source": [
        "# Train your model.\n",
        "theta = np.zeros((X.shape[1], 1))\n",
        "alpha = 0.1;\n",
        "num_iters = 400;\n",
        "theta, J_history = gradient_descent_logistic(X, y, theta, alpha, num_iters)"
      ],
      "execution_count": null,
      "outputs": [
        {
          "output_type": "stream",
          "text": [
            "[0.60179988]\n",
            "[0.51554018]\n",
            "[0.43401935]\n",
            "[0.356874]\n",
            "[0.28374032]\n",
            "[0.21426487]\n",
            "[0.14811213]\n",
            "[0.08496915]\n",
            "[0.02454792]\n",
            "[-0.03341402]\n",
            "[-0.08915407]\n",
            "[-0.14288585]\n",
            "[-0.19480093]\n",
            "[-0.24507068]\n",
            "[-0.29384822]\n",
            "[-0.34127033]\n",
            "[-0.38745919]\n",
            "[-0.432524]\n",
            "[-0.47656247]\n",
            "[-0.51966214]\n",
            "[-0.56190154]\n",
            "[-0.60335123]\n",
            "[-0.64407471]\n",
            "[-0.68412924]\n",
            "[-0.72356653]\n",
            "[-0.76243337]\n",
            "[-0.80077215]\n",
            "[-0.83862139]\n",
            "[-0.87601608]\n",
            "[-0.91298813]\n",
            "[-0.94956665]\n",
            "[-0.98577823]\n",
            "[-1.02164723]\n",
            "[-1.05719598]\n",
            "[-1.09244498]\n",
            "[-1.12741308]\n",
            "[-1.16211764]\n",
            "[-1.19657466]\n",
            "[-1.23079893]\n",
            "[-1.2648041]\n",
            "[-1.29860282]\n",
            "[-1.3322068]\n",
            "[-1.36562693]\n",
            "[-1.39887329]\n",
            "[-1.43195528]\n",
            "[-1.46488165]\n",
            "[-1.49766053]\n",
            "[-1.53029953]\n",
            "[-1.56280574]\n",
            "[-1.59518579]\n",
            "[-1.62744589]\n",
            "[-1.65959184]\n",
            "[-1.69162909]\n",
            "[-1.72356273]\n",
            "[-1.75539758]\n",
            "[-1.78713811]\n",
            "[-1.81878858]\n",
            "[-1.85035295]\n",
            "[-1.88183499]\n",
            "[-1.91323823]\n",
            "[-1.94456599]\n",
            "[-1.97582144]\n",
            "[-2.00700752]\n",
            "[-2.03812706]\n",
            "[-2.06918271]\n",
            "[-2.10017698]\n",
            "[-2.13111225]\n",
            "[-2.16199077]\n",
            "[-2.19281467]\n",
            "[-2.22358599]\n",
            "[-2.25430665]\n",
            "[-2.28497847]\n",
            "[-2.31560318]\n",
            "[-2.34618245]\n",
            "[-2.37671783]\n",
            "[-2.40721083]\n",
            "[-2.43766286]\n",
            "[-2.46807528]\n",
            "[-2.49844938]\n",
            "[-2.52878639]\n",
            "[-2.5590875]\n",
            "[-2.58935381]\n",
            "[-2.61958641]\n",
            "[-2.64978632]\n",
            "[-2.67995451]\n",
            "[-2.71009193]\n",
            "[-2.74019947]\n",
            "[-2.770278]\n",
            "[-2.80032832]\n",
            "[-2.83035123]\n",
            "[-2.86034749]\n",
            "[-2.89031782]\n",
            "[-2.92026291]\n",
            "[-2.95018343]\n",
            "[-2.98008002]\n",
            "[-3.0099533]\n",
            "[-3.03980386]\n",
            "[-3.06963227]\n",
            "[-3.09943907]\n",
            "[-3.12922479]\n",
            "[-3.15898994]\n",
            "[-3.188735]\n",
            "[-3.21846044]\n",
            "[-3.24816673]\n",
            "[-3.27785429]\n",
            "[-3.30752355]\n",
            "[-3.3371749]\n",
            "[-3.36680876]\n",
            "[-3.39642548]\n",
            "[-3.42602545]\n",
            "[-3.45560901]\n",
            "[-3.48517651]\n",
            "[-3.51472827]\n",
            "[-3.54426461]\n",
            "[-3.57378585]\n",
            "[-3.60329229]\n",
            "[-3.63278421]\n",
            "[-3.66226189]\n",
            "[-3.69172561]\n",
            "[-3.72117564]\n",
            "[-3.75061222]\n",
            "[-3.7800356]\n",
            "[-3.80944603]\n",
            "[-3.83884375]\n",
            "[-3.86822896]\n",
            "[-3.89760191]\n",
            "[-3.9269628]\n",
            "[-3.95631184]\n",
            "[-3.98564922]\n",
            "[-4.01497516]\n",
            "[-4.04428984]\n",
            "[-4.07359345]\n",
            "[-4.10288616]\n",
            "[-4.13216815]\n",
            "[-4.16143961]\n",
            "[-4.19070068]\n",
            "[-4.21995155]\n",
            "[-4.24919236]\n",
            "[-4.27842327]\n",
            "[-4.30764443]\n",
            "[-4.33685599]\n",
            "[-4.36605809]\n",
            "[-4.39525088]\n",
            "[-4.42443449]\n",
            "[-4.45360906]\n",
            "[-4.48277471]\n",
            "[-4.51193158]\n",
            "[-4.54107979]\n",
            "[-4.57021945]\n",
            "[-4.5993507]\n",
            "[-4.62847365]\n",
            "[-4.6575884]\n",
            "[-4.68669508]\n",
            "[-4.7157938]\n",
            "[-4.74488465]\n",
            "[-4.77396775]\n",
            "[-4.80304319]\n",
            "[-4.83211109]\n",
            "[-4.86117153]\n",
            "[-4.89022461]\n",
            "[-4.91927044]\n",
            "[-4.94830909]\n",
            "[-4.97734066]\n",
            "[-5.00636525]\n",
            "[-5.03538294]\n",
            "[-5.0643938]\n",
            "[-5.09339794]\n",
            "[-5.12239543]\n",
            "[-5.15138635]\n",
            "[-5.18037078]\n",
            "[-5.20934881]\n",
            "[-5.2383205]\n",
            "[-5.26728593]\n",
            "[-5.29624518]\n",
            "[-5.32519832]\n",
            "[-5.35414542]\n",
            "[-5.38308655]\n",
            "[-5.41202178]\n",
            "[-5.44095119]\n",
            "[-5.46987482]\n",
            "[-5.49879276]\n",
            "[-5.52770506]\n",
            "[-5.5566118]\n",
            "[-5.58551302]\n",
            "[-5.6144088]\n",
            "[-5.64329919]\n",
            "[-5.67218426]\n",
            "[-5.70106406]\n",
            "[-5.72993865]\n",
            "[-5.75880809]\n",
            "[-5.78767243]\n",
            "[-5.81653172]\n",
            "[-5.84538603]\n",
            "[-5.87423541]\n",
            "[-5.90307991]\n",
            "[-5.93191957]\n",
            "[-5.96075446]\n",
            "[-5.98958462]\n",
            "[-6.0184101]\n",
            "[-6.04723095]\n",
            "[-6.07604723]\n",
            "[-6.10485896]\n",
            "[-6.13366622]\n",
            "[-6.16246903]\n",
            "[-6.19126745]\n",
            "[-6.22006151]\n",
            "[-6.24885127]\n",
            "[-6.27763678]\n",
            "[-6.30641806]\n",
            "[-6.33519516]\n",
            "[-6.36396813]\n",
            "[-6.39273701]\n",
            "[-6.42150184]\n",
            "[-6.45026265]\n",
            "[-6.4790195]\n",
            "[-6.50777241]\n",
            "[-6.53652143]\n",
            "[-6.56526659]\n",
            "[-6.59400793]\n",
            "[-6.62274549]\n",
            "[-6.65147931]\n",
            "[-6.68020942]\n",
            "[-6.70893586]\n",
            "[-6.73765866]\n",
            "[-6.76637786]\n",
            "[-6.79509349]\n",
            "[-6.82380559]\n",
            "[-6.85251419]\n",
            "[-6.88121932]\n",
            "[-6.90992102]\n",
            "[-6.93861932]\n",
            "[-6.96731425]\n",
            "[-6.99600584]\n",
            "[-7.02469412]\n",
            "[-7.05337913]\n",
            "[-7.08206089]\n",
            "[-7.11073944]\n",
            "[-7.13941481]\n",
            "[-7.16808701]\n",
            "[-7.19675609]\n",
            "[-7.22542207]\n",
            "[-7.25408498]\n",
            "[-7.28274485]\n",
            "[-7.31140171]\n",
            "[-7.34005558]\n",
            "[-7.36870648]\n",
            "[-7.39735446]\n",
            "[-7.42599953]\n",
            "[-7.45464171]\n",
            "[-7.48328104]\n",
            "[-7.51191755]\n",
            "[-7.54055124]\n",
            "[-7.56918216]\n",
            "[-7.59781033]\n",
            "[-7.62643576]\n",
            "[-7.65505849]\n",
            "[-7.68367853]\n",
            "[-7.71229592]\n",
            "[-7.74091067]\n",
            "[-7.7695228]\n",
            "[-7.79813235]\n",
            "[-7.82673933]\n",
            "[-7.85534377]\n",
            "[-7.88394568]\n",
            "[-7.91254509]\n",
            "[-7.94114202]\n",
            "[-7.96973649]\n",
            "[-7.99832853]\n",
            "[-8.02691815]\n",
            "[-8.05550537]\n",
            "[-8.08409022]\n",
            "[-8.11267271]\n",
            "[-8.14125286]\n",
            "[-8.1698307]\n",
            "[-8.19840625]\n",
            "[-8.22697951]\n",
            "[-8.25555052]\n",
            "[-8.28411929]\n",
            "[-8.31268584]\n",
            "[-8.34125019]\n",
            "[-8.36981235]\n",
            "[-8.39837235]\n",
            "[-8.4269302]\n",
            "[-8.45548592]\n",
            "[-8.48403953]\n",
            "[-8.51259105]\n",
            "[-8.54114048]\n",
            "[-8.56968786]\n",
            "[-8.59823319]\n",
            "[-8.6267765]\n",
            "[-8.65531779]\n",
            "[-8.68385709]\n",
            "[-8.71239441]\n",
            "[-8.74092977]\n",
            "[-8.76946318]\n",
            "[-8.79799466]\n",
            "[-8.82652422]\n",
            "[-8.85505189]\n",
            "[-8.88357767]\n",
            "[-8.91210158]\n",
            "[-8.94062363]\n",
            "[-8.96914384]\n",
            "[-8.99766223]\n",
            "[-9.02617881]\n",
            "[-9.05469359]\n",
            "[-9.08320658]\n",
            "[-9.11171781]\n",
            "[-9.14022728]\n",
            "[-9.16873501]\n",
            "[-9.19724101]\n",
            "[-9.2257453]\n",
            "[-9.25424788]\n",
            "[-9.28274878]\n",
            "[-9.311248]\n",
            "[-9.33974556]\n",
            "[-9.36824147]\n",
            "[-9.39673574]\n",
            "[-9.42522839]\n",
            "[-9.45371942]\n",
            "[-9.48220886]\n",
            "[-9.51069671]\n",
            "[-9.53918298]\n",
            "[-9.56766769]\n",
            "[-9.59615085]\n",
            "[-9.62463246]\n",
            "[-9.65311255]\n",
            "[-9.68159113]\n",
            "[-9.71006819]\n",
            "[-9.73854376]\n",
            "[-9.76701785]\n",
            "[-9.79549047]\n",
            "[-9.82396162]\n",
            "[-9.85243133]\n",
            "[-9.88089959]\n",
            "[-9.90936642]\n",
            "[-9.93783184]\n",
            "[-9.96629585]\n",
            "[-9.99475846]\n",
            "[-10.02321968]\n",
            "[-10.05167953]\n",
            "[-10.080138]\n",
            "[-10.10859512]\n",
            "[-10.13705089]\n",
            "[-10.16550533]\n",
            "[-10.19395843]\n",
            "[-10.22241022]\n",
            "[-10.25086069]\n",
            "[-10.27930987]\n",
            "[-10.30775776]\n",
            "[-10.33620436]\n",
            "[-10.36464969]\n",
            "[-10.39309376]\n",
            "[-10.42153657]\n",
            "[-10.44997814]\n",
            "[-10.47841848]\n",
            "[-10.50685758]\n",
            "[-10.53529547]\n",
            "[-10.56373214]\n",
            "[-10.59216761]\n",
            "[-10.62060189]\n",
            "[-10.64903498]\n",
            "[-10.6774669]\n",
            "[-10.70589764]\n",
            "[-10.73432723]\n",
            "[-10.76275566]\n",
            "[-10.79118295]\n",
            "[-10.8196091]\n",
            "[-10.84803412]\n",
            "[-10.87645802]\n",
            "[-10.90488081]\n",
            "[-10.93330249]\n",
            "[-10.96172307]\n",
            "[-10.99014256]\n",
            "[-11.01856096]\n",
            "[-11.04697829]\n",
            "[-11.07539456]\n",
            "[-11.10380975]\n",
            "[-11.1322239]\n",
            "[-11.16063699]\n",
            "[-11.18904905]\n",
            "[-11.21746007]\n",
            "[-11.24587007]\n",
            "[-11.27427904]\n",
            "[-11.302687]\n",
            "[-11.33109396]\n",
            "[-11.35949992]\n",
            "[-11.38790488]\n",
            "[-11.41630886]\n",
            "[-11.44471185]\n",
            "[-11.47311388]\n",
            "[-11.50151493]\n",
            "[-11.52991503]\n",
            "[-11.55831417]\n",
            "[-11.58671236]\n",
            "[-11.61510961]\n",
            "[-11.64350592]\n",
            "[-11.6719013]\n",
            "[-11.70029576]\n",
            "[-11.72868931]\n",
            "[-11.75708194]\n"
          ],
          "name": "stdout"
        }
      ]
    },
    {
      "cell_type": "markdown",
      "metadata": {
        "id": "KBz-vuy6USQX"
      },
      "source": [
        "Again, plot and check to see if the model is converging."
      ]
    },
    {
      "cell_type": "code",
      "metadata": {
        "id": "tI7-ve1lUSQY",
        "colab": {
          "base_uri": "https://localhost:8080/",
          "height": 279
        },
        "outputId": "81109876-54e9-49ee-8cc7-78262d450997"
      },
      "source": [
        "plt.plot(list(range(0, len(J_history))), J_history, '-b')  \n",
        "plt.xlabel('Number of iterations')\n",
        "plt.ylabel('Cost J')\n",
        "plt.show()"
      ],
      "execution_count": null,
      "outputs": [
        {
          "output_type": "display_data",
          "data": {
            "image/png": "[encoded data removed]",
            "text/plain": [
              "<Figure size 432x288 with 1 Axes>"
            ]
          },
          "metadata": {
            "tags": [],
            "needs_background": "light"
          }
        }
      ]
    },
    {
      "cell_type": "markdown",
      "metadata": {
        "id": "FJ7vClqtUSQf"
      },
      "source": [
        "## Decision Boundary\n",
        "In addition to checking convergence graph and accuracy, we can also plot out the decision boundary to see what does the model actually learn."
      ]
    },
    {
      "cell_type": "code",
      "metadata": {
        "id": "HDhTGlzFUSQf",
        "colab": {
          "base_uri": "https://localhost:8080/",
          "height": 279
        },
        "outputId": "8dec97f9-c0dd-4882-fefe-562cdba43398"
      },
      "source": [
        "# Plot the feature according to their class label.\n",
        "# Note that we exclude column 0, which is the colunm we padded with one in the previous block.\n",
        "plt.plot(X[np.where(y==1), 1], X[np.where(y==1), 2], 'rx')\n",
        "plt.plot(X[np.where(y==-1), 1], X[np.where(y==-1), 2], 'bo')\n",
        "\n",
        "#####################################################################\n",
        "# Instructions: Plot out the decision boundary.                     #\n",
        "# Hint: To plot the boundary, which is a straight line in our case, #\n",
        "#       you need to find the two ends of the line, and plot it with #\n",
        "#       plt.plot(). Note that the decision boundary is the line that#\n",
        "#       y = 0.                                                      # \n",
        "#####################################################################\n",
        "plot_x = [np.min(X[:,1]), np.max(X[:,2])]\n",
        "# I found the decision boundary in this way mentioned in Piazza:\n",
        "# Set the DB equation equal to theta_0 + theta_1 * x_1 + theta_2 * x_2\n",
        "# Thus, DB(X) = theta_0 + theta_1 * x_1 + theta_2 * x_2\n",
        "# We assume DB(X) = 0\n",
        "# We get the equation of the form x_2 = f(x_1) and plot it.\n",
        "plot_y = (-1./theta[2]) * ((theta[1] * (plot_x) + theta[0]))\n",
        "plt.plot(plot_x, plot_y, label='Decision boundary')\n",
        "pass\n",
        "#####################################################################\n",
        "#                       END OF YOUR CODE                            #\n",
        "#####################################################################\n",
        "\n",
        "plt.xlabel('x1')\n",
        "plt.ylabel('x2')\n",
        "plt.show()"
      ],
      "execution_count": null,
      "outputs": [
        {
          "output_type": "display_data",
          "data": {
            "image/png": "[encoded data removed]",
            "text/plain": [
              "<Figure size 432x288 with 1 Axes>"
            ]
          },
          "metadata": {
            "tags": [],
            "needs_background": "light"
          }
        }
      ]
    },
    {
      "cell_type": "markdown",
      "metadata": {
        "id": "shWKz8-hUSQi"
      },
      "source": [
        "# Section 2. Regularization [30 pts]:"
      ]
    },
    {
      "cell_type": "markdown",
      "metadata": {
        "id": "Q6u2mu0-USQi"
      },
      "source": [
        "In this section, you need to incorporate L2 regularization into your logistic regression. "
      ]
    },
    {
      "cell_type": "markdown",
      "metadata": {
        "id": "Qs9SvcGsUSQj"
      },
      "source": [
        "## L2 Regularization\n",
        "Overfitting is a notorious problem in the world of machine learning. One simple way to counter this issue is to put constraints on your model weights $\\theta$, as we have discussed in class. In this section, you need to modify the the objective function to impose L2 regularization on the logistic regression:\n",
        "\\begin{equation*}\n",
        "    J(\\theta) = -\\frac{1}{m}\\sum_{i=1}^m\\log{\\left(h_{\\theta}(y^{(i)}x^{(i)})\\right)} + \\lambda\\vert\\vert\\theta\\vert\\vert_2^2\n",
        "\\end{equation*}\n",
        "Derive the gradient for this new objective to incorporate it into your logistic regression model.\n",
        "\n",
        "To make things much structural, we now put everything together into a class. Please use the class template below to implement your logistic regression. Note that you can add your own class methods if needed."
      ]
    },
    {
      "cell_type": "code",
      "metadata": {
        "id": "8R56endnUSQp"
      },
      "source": [
        "class LogisticRegression(object):\n",
        "    \n",
        "    def __init__(self, alpha=0.1, lamb=0.1, regularization=None):\n",
        "        # setting the class attribute.\n",
        "        self.alpha = alpha                   # Set up your learning rate alpha.\n",
        "        self.lamb = lamb                     # Strength of regularization.\n",
        "        self.regularization = regularization \n",
        "        assert regularization == 'l2' or regularization == None # we only consider these two cases\n",
        "\n",
        "    def sigmoid(z):\n",
        "        g = 1 / (1 + np.exp(-z))\n",
        "        return g\n",
        "\n",
        "    def _compute_cost(self, X, y):\n",
        "        #####################################################################\n",
        "        # Instructions: Compute the cost function here.                     #\n",
        "        #               You need to handle both the cases with, and without #\n",
        "        #               regularization here.                                #\n",
        "        #####################################################################\n",
        "        if (regularization == None):\n",
        "          J=compute_cost(X,y,self.theta)  \n",
        "        else:  \n",
        "          h = sigmoid(np.dot(X,theta))\n",
        "          cost = (-y * np.log(h)) - ((1-y)*np.log(1-h))\n",
        "          l2 = np.sum(np.power(theta,2))\n",
        "          J = 1/m * sum(cost) + lamb * np.power(l2 , 2)\n",
        "        pass\n",
        "        #####################################################################\n",
        "        #                       END OF YOUR CODE                            #\n",
        "        #####################################################################\n",
        "        return J\n",
        "        \n",
        "    def _compute_gradient(self, X, y):\n",
        "        #####################################################################\n",
        "        # Instructions: Compute the gradient here.                          #\n",
        "        #               You need to handle both the cases with, and without #\n",
        "        #               regularization here.                                #\n",
        "        #####################################################################\n",
        "        if (regularization == None):\n",
        "            gradient_=compute_gradient(X, y, theta)  \n",
        "        else: \n",
        "            h2 = sigmoid(np.dot(X,theta))\n",
        "            gradient_ = 1/m * (np.dot(X.transpose(), (h2-y)))\n",
        "            regularization = (self.lamb / m) * self.theta\n",
        "            gradient= gradi + regularization\n",
        "        pass\n",
        "        #####################################################################\n",
        "        #                       END OF YOUR CODE                            #\n",
        "        #####################################################################\n",
        "        return gradient\n",
        "\n",
        "    def fit(self, X, y, num_iter=5):\n",
        "        self.theta = np.zeros((X.shape[1], 1))\n",
        "        m = len(y)\n",
        "        J_history = []\n",
        "        #####################################################################\n",
        "        # Instructions: Run the gradient decsent here.                      #\n",
        "        #####################################################################\n",
        "        for i in range(num_iters):\n",
        "            grad= self._compute_gradient(X, y) \n",
        "            theta = theta-alpha*grad\n",
        "            J = self._compute_cost(X, y)\n",
        "            J_history  = J_history.append(J)\n",
        "        pass\n",
        "        #####################################################################\n",
        "        #                       END OF YOUR CODE                            #\n",
        "        #####################################################################\n",
        "        return J_history\n",
        "    \n",
        "    def predict(self, X):\n",
        "        #####################################################################\n",
        "        # Instructions: Use your hypothese to make predictions.             #\n",
        "        #####################################################################\n",
        "        pass\n",
        "        #####################################################################\n",
        "        #                       END OF YOUR CODE                            #\n",
        "        #####################################################################\n",
        "        return y_hat"
      ],
      "execution_count": null,
      "outputs": []
    },
    {
      "cell_type": "markdown",
      "metadata": {
        "id": "HvOuwb--USQr"
      },
      "source": [
        "Load the wine datasets, in which $x_j\\in\\mathbb{R}^{12}$ is different attribute for alcohol, and $y\\in\\{-1,1\\}$ is that class label (red or white wine)."
      ]
    },
    {
      "cell_type": "code",
      "metadata": {
        "id": "AcJhvSKZUSQs"
      },
      "source": [
        "# Load dataset\n",
        "import numpy as np\n",
        "X_train = np.loadtxt(os.path.join(customized_path_to_your_homework, 'data/wine_train_X.txt'))\n",
        "y_train = np.loadtxt(os.path.join(customized_path_to_your_homework, 'data/wine_train_y.txt')).reshape(-1, 1)\n",
        "X_test = np.loadtxt(os.path.join(customized_path_to_your_homework, 'data/wine_test_X.txt'))\n",
        "y_test = np.loadtxt(os.path.join(customized_path_to_your_homework, 'data/wine_test_y.txt')).reshape(-1, 1)\n",
        "\n",
        "\n",
        "X_train = np.concatenate((np.ones((X_train.shape[0], 1)), X_train), axis=1)\n",
        "X_test = np.concatenate((np.ones((X_test.shape[0], 1)), X_test), axis=1)"
      ],
      "execution_count": null,
      "outputs": []
    },
    {
      "cell_type": "markdown",
      "metadata": {
        "id": "FrVpJHEaUSQx"
      },
      "source": [
        "Now, let's train two different logistic regression models: one with, and one without regularization."
      ]
    },
    {
      "cell_type": "code",
      "metadata": {
        "id": "3L4_u_m5USQy",
        "colab": {
          "base_uri": "https://localhost:8080/",
          "height": 369
        },
        "outputId": "be2a0bf5-e86e-4b5f-bc21-bd1518cf8c16"
      },
      "source": [
        "log_reg = LogisticRegression(alpha=0.1) # Without regularization\n",
        "log_reg_l2 = LogisticRegression(alpha=0.1, lamb=1.0, regularization='l2') # Without regularization\n",
        "\n",
        "J_history = log_reg.fit(X_train, y_train, num_iter=500)\n",
        "J_history_l2 = log_reg_l2.fit(X_train, y_train, num_iter=500)"
      ],
      "execution_count": null,
      "outputs": [
        {
          "output_type": "error",
          "ename": "UnboundLocalError",
          "evalue": "ignored",
          "traceback": [
            "\u001b[0;31m---------------------------------------------------------------------------\u001b[0m",
            "\u001b[0;31mUnboundLocalError\u001b[0m                         Traceback (most recent call last)",
            "\u001b[0;32m<ipython-input-98-25611e0c9423>\u001b[0m in \u001b[0;36m<module>\u001b[0;34m()\u001b[0m\n\u001b[1;32m      2\u001b[0m \u001b[0mlog_reg_l2\u001b[0m \u001b[0;34m=\u001b[0m \u001b[0mLogisticRegression\u001b[0m\u001b[0;34m(\u001b[0m\u001b[0malpha\u001b[0m\u001b[0;34m=\u001b[0m\u001b[0;36m0.1\u001b[0m\u001b[0;34m,\u001b[0m \u001b[0mlamb\u001b[0m\u001b[0;34m=\u001b[0m\u001b[0;36m1.0\u001b[0m\u001b[0;34m,\u001b[0m \u001b[0mregularization\u001b[0m\u001b[0;34m=\u001b[0m\u001b[0;34m'l2'\u001b[0m\u001b[0;34m)\u001b[0m \u001b[0;31m# Without regularization\u001b[0m\u001b[0;34m\u001b[0m\u001b[0;34m\u001b[0m\u001b[0m\n\u001b[1;32m      3\u001b[0m \u001b[0;34m\u001b[0m\u001b[0m\n\u001b[0;32m----> 4\u001b[0;31m \u001b[0mJ_history\u001b[0m \u001b[0;34m=\u001b[0m \u001b[0mlog_reg\u001b[0m\u001b[0;34m.\u001b[0m\u001b[0mfit\u001b[0m\u001b[0;34m(\u001b[0m\u001b[0mX_train\u001b[0m\u001b[0;34m,\u001b[0m \u001b[0my_train\u001b[0m\u001b[0;34m,\u001b[0m \u001b[0mnum_iter\u001b[0m\u001b[0;34m=\u001b[0m\u001b[0;36m500\u001b[0m\u001b[0;34m)\u001b[0m\u001b[0;34m\u001b[0m\u001b[0;34m\u001b[0m\u001b[0m\n\u001b[0m\u001b[1;32m      5\u001b[0m \u001b[0mJ_history_l2\u001b[0m \u001b[0;34m=\u001b[0m \u001b[0mlog_reg_l2\u001b[0m\u001b[0;34m.\u001b[0m\u001b[0mfit\u001b[0m\u001b[0;34m(\u001b[0m\u001b[0mX_train\u001b[0m\u001b[0;34m,\u001b[0m \u001b[0my_train\u001b[0m\u001b[0;34m,\u001b[0m \u001b[0mnum_iter\u001b[0m\u001b[0;34m=\u001b[0m\u001b[0;36m500\u001b[0m\u001b[0;34m)\u001b[0m\u001b[0;34m\u001b[0m\u001b[0;34m\u001b[0m\u001b[0m\n",
            "\u001b[0;32m<ipython-input-96-655efb886e61>\u001b[0m in \u001b[0;36mfit\u001b[0;34m(self, X, y, num_iter)\u001b[0m\n\u001b[1;32m     58\u001b[0m         \u001b[0;31m#####################################################################\u001b[0m\u001b[0;34m\u001b[0m\u001b[0;34m\u001b[0m\u001b[0;34m\u001b[0m\u001b[0m\n\u001b[1;32m     59\u001b[0m         \u001b[0;32mfor\u001b[0m \u001b[0mi\u001b[0m \u001b[0;32min\u001b[0m \u001b[0mrange\u001b[0m\u001b[0;34m(\u001b[0m\u001b[0mnum_iters\u001b[0m\u001b[0;34m)\u001b[0m\u001b[0;34m:\u001b[0m\u001b[0;34m\u001b[0m\u001b[0;34m\u001b[0m\u001b[0m\n\u001b[0;32m---> 60\u001b[0;31m             \u001b[0mgrad\u001b[0m\u001b[0;34m=\u001b[0m \u001b[0mself\u001b[0m\u001b[0;34m.\u001b[0m\u001b[0m_compute_gradient\u001b[0m\u001b[0;34m(\u001b[0m\u001b[0mX\u001b[0m\u001b[0;34m,\u001b[0m \u001b[0my\u001b[0m\u001b[0;34m)\u001b[0m\u001b[0;34m\u001b[0m\u001b[0;34m\u001b[0m\u001b[0m\n\u001b[0m\u001b[1;32m     61\u001b[0m             \u001b[0mtheta\u001b[0m \u001b[0;34m=\u001b[0m \u001b[0mtheta\u001b[0m\u001b[0;34m-\u001b[0m\u001b[0malpha\u001b[0m\u001b[0;34m*\u001b[0m\u001b[0mgrad\u001b[0m\u001b[0;34m\u001b[0m\u001b[0;34m\u001b[0m\u001b[0m\n\u001b[1;32m     62\u001b[0m             \u001b[0mJ\u001b[0m \u001b[0;34m=\u001b[0m \u001b[0mself\u001b[0m\u001b[0;34m.\u001b[0m\u001b[0m_compute_cost\u001b[0m\u001b[0;34m(\u001b[0m\u001b[0mX\u001b[0m\u001b[0;34m,\u001b[0m \u001b[0my\u001b[0m\u001b[0;34m)\u001b[0m\u001b[0;34m\u001b[0m\u001b[0;34m\u001b[0m\u001b[0m\n",
            "\u001b[0;32m<ipython-input-96-655efb886e61>\u001b[0m in \u001b[0;36m_compute_gradient\u001b[0;34m(self, X, y)\u001b[0m\n\u001b[1;32m     37\u001b[0m         \u001b[0;31m#               regularization here.                                #\u001b[0m\u001b[0;34m\u001b[0m\u001b[0;34m\u001b[0m\u001b[0;34m\u001b[0m\u001b[0m\n\u001b[1;32m     38\u001b[0m         \u001b[0;31m#####################################################################\u001b[0m\u001b[0;34m\u001b[0m\u001b[0;34m\u001b[0m\u001b[0;34m\u001b[0m\u001b[0m\n\u001b[0;32m---> 39\u001b[0;31m         \u001b[0;32mif\u001b[0m \u001b[0;34m(\u001b[0m\u001b[0mregularization\u001b[0m \u001b[0;34m==\u001b[0m \u001b[0;32mNone\u001b[0m\u001b[0;34m)\u001b[0m\u001b[0;34m:\u001b[0m\u001b[0;34m\u001b[0m\u001b[0;34m\u001b[0m\u001b[0m\n\u001b[0m\u001b[1;32m     40\u001b[0m             \u001b[0mgradient_\u001b[0m\u001b[0;34m=\u001b[0m\u001b[0mcompute_gradient\u001b[0m\u001b[0;34m(\u001b[0m\u001b[0mX\u001b[0m\u001b[0;34m,\u001b[0m \u001b[0my\u001b[0m\u001b[0;34m,\u001b[0m \u001b[0mtheta\u001b[0m\u001b[0;34m)\u001b[0m\u001b[0;34m\u001b[0m\u001b[0;34m\u001b[0m\u001b[0m\n\u001b[1;32m     41\u001b[0m         \u001b[0;32melse\u001b[0m\u001b[0;34m:\u001b[0m\u001b[0;34m\u001b[0m\u001b[0;34m\u001b[0m\u001b[0m\n",
            "\u001b[0;31mUnboundLocalError\u001b[0m: local variable 'regularization' referenced before assignment"
          ]
        }
      ]
    },
    {
      "cell_type": "markdown",
      "metadata": {
        "id": "XLoIsIXCAb5V"
      },
      "source": [
        ""
      ]
    },
    {
      "cell_type": "code",
      "metadata": {
        "id": "bUcN2QkLAcfE"
      },
      "source": [
        ""
      ],
      "execution_count": null,
      "outputs": []
    },
    {
      "cell_type": "markdown",
      "metadata": {
        "id": "3LbnavioUSQ2"
      },
      "source": [
        "Next, we evaluate the accuracy for each method:"
      ]
    },
    {
      "cell_type": "code",
      "metadata": {
        "id": "UUPmeq4BUSQ3"
      },
      "source": [
        "def evaluate_accuracy(X, y, model):\n",
        "    y_pred = model.predict(X)\n",
        "    y_pred[y_pred > 0.5] = 1\n",
        "    y_pred[y_pred <= 0.5] = -1\n",
        "    return np.mean(y_pred == y)\n",
        "\n",
        "print(\"Accuracy on training set: \", evaluate_accuracy(X_train, y_train, log_reg))\n",
        "print(\"Accuracy on testing set: \", evaluate_accuracy(X_test, y_test, log_reg))\n",
        "print(\"Accuracy w/ L2 training set: \", evaluate_accuracy(X_train, y_train, log_reg_l2))\n",
        "print(\"Accuracy w/ L2 testing set: \", evaluate_accuracy(X_test, y_test, log_reg_l2))"
      ],
      "execution_count": null,
      "outputs": []
    },
    {
      "cell_type": "markdown",
      "metadata": {
        "id": "zHzJ9-fiUSQ6"
      },
      "source": [
        "To see the effect of regularization on $\\theta$, we can plot out each $\\theta_j$ under different $\\lambda$."
      ]
    },
    {
      "cell_type": "code",
      "metadata": {
        "id": "ruUGI7ZbUSQ6"
      },
      "source": [
        "def plot_theta(theta, lamb):\n",
        "    \"\"\"\n",
        "    Helper function for plotting out the value of theta with respect to different lambda.\n",
        "    theta  (list): list of theta under different lambda.\n",
        "    lambda (list): list of lambda values you tried.\n",
        "    \"\"\"\n",
        "    plt.hlines(y=0, xmin=0, xmax=np.max(lamb), color='red', linewidth = 2, linestyle = '--')\n",
        "    for i in range(theta.shape[1]):\n",
        "        plt.plot(lamb, theta[:,i])\n",
        "    plt.ylabel('theta')\n",
        "    plt.xlabel('lambda')\n",
        "    plt.xscale('log')\n",
        "    plt.show()"
      ],
      "execution_count": null,
      "outputs": []
    },
    {
      "cell_type": "markdown",
      "metadata": {
        "id": "jdz5Fu2ecDRw"
      },
      "source": [
        "## Plot:"
      ]
    },
    {
      "cell_type": "code",
      "metadata": {
        "id": "GrXZdXtLUSQ_"
      },
      "source": [
        "lamb = [0.1, 1, 10, 100, 1000]\n",
        "theta = []\n",
        "\n",
        "#####################################################################\n",
        "# Instructions: For each value in lamb, try a model for it, and     #\n",
        "#               append the trained weights into the theta           #\n",
        "#####################################################################\n",
        "for i in lamb:\n",
        "    log_reg_l2 = LogisticRegression(alpha=0.1, lamb=i, regularization='l2')\n",
        "    log_reg_l2.fit(X_train, y_train)\n",
        "    theta.append(log_reg_l2.theta)\n",
        "pass\n",
        "#####################################################################\n",
        "#                       END OF YOUR CODE                            #\n",
        "#####################################################################\n",
        "\n",
        "plot_theta(np.array(theta), lamb)"
      ],
      "execution_count": null,
      "outputs": []
    },
    {
      "cell_type": "markdown",
      "metadata": {
        "id": "_dNrM5d_s72A"
      },
      "source": [
        "# Save as PDF\n",
        "Please use the following codes to save your notebook as a PDF file."
      ]
    },
    {
      "cell_type": "code",
      "metadata": {
        "id": "KrCQ6jY2USRB"
      },
      "source": [
        "#Run below two lines (in google colab), installation steps to get .pdf of the notebook\n",
        "\n",
        "!apt-get install texlive texlive-xetex texlive-latex-extra pandoc\n",
        "!pip install pypandoc\n",
        "\n",
        "#After installation, comment above two lines and run again to remove installation comments from the notebook."
      ],
      "execution_count": null,
      "outputs": []
    },
    {
      "cell_type": "code",
      "metadata": {
        "id": "oEg7wyn_s90U"
      },
      "source": [
        " Find path to your notebook file in drive and enter in below line\n",
        "!jupyter nbconvert --to PDF \"/content/gdrive/MyDrive/ECE 5424 ML/homework_spring/HW2/ECE_CS_5424_Assignment_2.ipynb\"\n",
        "#Example: \"/content/gdrive/MyDrive/ECE 5424 ML/homework_spring/HW2/ECE_CS_5424_Assignment_2.ipynb\""
      ],
      "execution_count": null,
      "outputs": []
    }
  ]
}